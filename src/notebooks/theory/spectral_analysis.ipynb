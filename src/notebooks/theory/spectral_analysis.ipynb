{
 "cells": [
  {
   "cell_type": "markdown",
   "metadata": {},
   "source": [
    "# Spectral Analysis of Fine-tuned Language Models\n",
    "\n",
    "## Overview\n",
    "\n",
    "This notebook demonstrates how to use **WeightWatcher** to analyze the training quality of fine-tuned language models through **Random Matrix Theory** and spectral analysis.\n",
    "\n",
    "### What We'll Do\n",
    "\n",
    "1. **Load and Prepare Data**: Download the IR Triplets dataset for inductive reasoning\n",
    "2. **Fine-tune a Language Model**: Train DistilGPT2 on question-answering task\n",
    "3. **Spectral Analysis**: Use WeightWatcher to compute power law exponents (α) for each layer\n",
    "4. **Visualize Results**: Analyze how model quality evolves during training\n",
    "\n",
    "### Key Concepts\n",
    "\n",
    "**WeightWatcher** analyzes the weight matrices of neural networks using Random Matrix Theory:\n",
    "- Computes the **power law exponent (α)** for each layer\n",
    "- α indicates training quality:\n",
    "  - **2 ≤ α ≤ 6**: Well-trained layer\n",
    "  - **α < 2**: Over-trained (memorization)\n",
    "  - **α > 6**: Under-trained (needs more training)\n",
    "\n",
    "### Model and Dataset\n",
    "\n",
    "- **Model**: DistilGPT2 (82M parameters) - A smaller, faster version of GPT-2\n",
    "- **Dataset**: IR Triplets - Inductive reasoning examples with Context/Question/Answer\n",
    "- **Task**: Fine-tune for question answering given context\n",
    "\n",
    "### References\n",
    "\n",
    "- WeightWatcher: https://github.com/CalculatedContent/WeightWatcher\n",
    "- IR Triplets Dataset: https://github.com/omroot/InductiveSLM\n",
    "- Paper: \"Inductive Reasoning in Large Language Models\"\n"
   ]
  },
  {
   "cell_type": "markdown",
   "metadata": {},
   "source": [
    "## Step 1: Setup and Imports\n",
    "\n",
    "First, we'll import all necessary libraries and set up our environment."
   ]
  },
  {
   "cell_type": "code",
   "execution_count": 1,
   "metadata": {},
   "outputs": [],
   "source": [
    "%load_ext autoreload\n",
    "%autoreload 2"
   ]
  },
  {
   "cell_type": "code",
   "execution_count": 2,
   "metadata": {},
   "outputs": [
    {
     "name": "stderr",
     "output_type": "stream",
     "text": [
      "PyTorch is available but CUDA is not. Defaulting to NumPy for SVD\n",
      "Import error , reetting to svd accurate methods\n"
     ]
    },
    {
     "name": "stdout",
     "output_type": "stream",
     "text": [
      "Running on macOS.\n",
      "Running on macOS.\n",
      "✓ All libraries imported successfully\n"
     ]
    }
   ],
   "source": [
    "# Standard libraries\n",
    "import numpy as np\n",
    "import pandas as pd\n",
    "import matplotlib.pyplot as plt\n",
    "import seaborn as sns\n",
    "import torch\n",
    "import os\n",
    "import warnings\n",
    "warnings.filterwarnings('ignore')\n",
    "\n",
    "import sys\n",
    "sys.path.append('../../../')\n",
    "\n",
    "# HuggingFace Transformers\n",
    "from transformers import (\n",
    "    AutoTokenizer,\n",
    "    AutoModelForCausalLM,\n",
    "    TrainingArguments,\n",
    "    Trainer,\n",
    "    DataCollatorForLanguageModeling,\n",
    ")\n",
    "from datasets import Dataset\n",
    "\n",
    "# Our utility functions\n",
    "from src.dlf.theory.spectral_analysis import (\n",
    "    download_ir_triplets,\n",
    "    format_dataset,\n",
    "    analyze_model_with_weightwatcher,\n",
    "    analyze_all_checkpoints,\n",
    "    prepare_visualization_data,\n",
    "    create_spectral_analysis_plots,\n",
    "    create_summary_table,\n",
    "    print_key_findings,\n",
    ")\n",
    "\n",
    "print(\"✓ All libraries imported successfully\")"
   ]
  },
  {
   "cell_type": "markdown",
   "metadata": {},
   "source": [
    "## Step 2: Configuration\n",
    "\n",
    "Set up our experiment parameters and visualization styles."
   ]
  },
  {
   "cell_type": "code",
   "execution_count": 3,
   "metadata": {},
   "outputs": [
    {
     "name": "stdout",
     "output_type": "stream",
     "text": [
      "Configuration:\n",
      "  Model: distilgpt2\n",
      "  Device: cpu\n",
      "  Epochs: 2\n",
      "  Batch size: 8\n",
      "  Max length: 512\n",
      "  Random seed: 42\n"
     ]
    }
   ],
   "source": [
    "# Visualization style\n",
    "sns.set_style(\"whitegrid\")\n",
    "plt.rcParams['figure.figsize'] = (14, 8)\n",
    "plt.rcParams['font.size'] = 11\n",
    "\n",
    "# Experiment configuration\n",
    "SEED = 42\n",
    "MODEL_NAME = \"distilgpt2\"  # 82M parameter model\n",
    "MAX_LENGTH = 512  # Maximum sequence length\n",
    "NUM_EPOCHS = 2  # Number of training epochs\n",
    "BATCH_SIZE = 8  # Training batch size\n",
    "OUTPUT_DIR = \"./finetuned_distilgpt2_model\"\n",
    "\n",
    "# Set random seeds for reproducibility\n",
    "np.random.seed(SEED)\n",
    "torch.manual_seed(SEED)\n",
    "if torch.cuda.is_available():\n",
    "    torch.cuda.manual_seed_all(SEED)\n",
    "\n",
    "# Determine device\n",
    "device = torch.device('cuda' if torch.cuda.is_available() else 'cpu')\n",
    "\n",
    "print(f\"Configuration:\")\n",
    "print(f\"  Model: {MODEL_NAME}\")\n",
    "print(f\"  Device: {device}\")\n",
    "print(f\"  Epochs: {NUM_EPOCHS}\")\n",
    "print(f\"  Batch size: {BATCH_SIZE}\")\n",
    "print(f\"  Max length: {MAX_LENGTH}\")\n",
    "print(f\"  Random seed: {SEED}\")"
   ]
  },
  {
   "cell_type": "markdown",
   "metadata": {},
   "source": [
    "## Step 3: Load and Explore the Dataset\n",
    "\n",
    "The **IR Triplets** dataset contains examples for inductive reasoning. Each example has:\n",
    "- **Training Observations** (Context): Background information\n",
    "- **Question**: What to predict or infer\n",
    "- **Answer**: The correct answer\n",
    "\n",
    "We'll download the dataset and split it into train/test sets (80/20 split)."
   ]
  },
  {
   "cell_type": "code",
   "execution_count": 4,
   "metadata": {},
   "outputs": [
    {
     "name": "stdout",
     "output_type": "stream",
     "text": [
      "================================================================================\n",
      "DOWNLOADING AND PREPARING DATASET\n",
      "================================================================================\n",
      "Downloading from: https://raw.githubusercontent.com/omroot/InductiveSLM/master/cache/raw_data/ir_triplets/ir_triplets.json\n",
      "\n",
      "Dataset Statistics:\n",
      "  Train: 1446 examples\n",
      "  Test:   361 examples\n",
      "  Total: 1807 examples\n",
      "\n",
      "================================================================================\n",
      "EXAMPLE FROM DATASET\n",
      "================================================================================\n",
      "\n",
      "Type: Predictive induction\n",
      "\n",
      "Context (Training Observations):\n",
      "  Series exhibits strong persistence (lag-1 ≈ 0.95), a decade-long upward trend (+13.2%), and weak seasonality, with shocks being rare but impactful....\n",
      "\n",
      "Question:\n",
      "  Absent new shocks, what should be expected for the month after 2009-12?\n",
      "\n",
      "Answer:\n",
      "  A value near the prevailing trend with only modest seasonal deviation—continued gradual growth unless disrupted....\n"
     ]
    }
   ],
   "source": [
    "print(\"=\"*80)\n",
    "print(\"DOWNLOADING AND PREPARING DATASET\")\n",
    "print(\"=\"*80)\n",
    "\n",
    "# Download and split dataset\n",
    "triplets_data = download_ir_triplets(test_fraction=0.2, seed=SEED)\n",
    "\n",
    "# Print statistics\n",
    "print(\"\\nDataset Statistics:\")\n",
    "print(f\"  Train: {len(triplets_data['train']):4d} examples\")\n",
    "print(f\"  Test:  {len(triplets_data['test']):4d} examples\")\n",
    "print(f\"  Total: {len(triplets_data['train']) + len(triplets_data['test']):4d} examples\")\n",
    "\n",
    "# Show example\n",
    "print(\"\\n\" + \"=\"*80)\n",
    "print(\"EXAMPLE FROM DATASET\")\n",
    "print(\"=\"*80)\n",
    "example = triplets_data['train'][0]\n",
    "print(f\"\\nType: {example.get('form', 'N/A')}\")\n",
    "print(f\"\\nContext (Training Observations):\\n  {example['Training Observations'][:200]}...\")\n",
    "print(f\"\\nQuestion:\\n  {example['Question']}\")\n",
    "print(f\"\\nAnswer:\\n  {example['Answer'][:200]}...\")"
   ]
  },
  {
   "cell_type": "markdown",
   "metadata": {},
   "source": [
    "## Step 4: Format Data for Causal Language Modeling\n",
    "\n",
    "For causal language models like DistilGPT2, we need to format our data as a single text string.\n",
    "\n",
    "We'll use the format:\n",
    "```\n",
    "Context: {Training Observations}\n",
    "\n",
    "Question: {Question}\n",
    "\n",
    "Answer: {Answer}\n",
    "```\n",
    "\n",
    "The model will learn to predict the next token given the previous tokens, effectively learning to answer questions given context."
   ]
  },
  {
   "cell_type": "code",
   "execution_count": 5,
   "metadata": {},
   "outputs": [
    {
     "name": "stdout",
     "output_type": "stream",
     "text": [
      "Formatting datasets for causal LM training...\n",
      "✓ Formatted 1446 training examples\n",
      "✓ Formatted 361 test examples\n",
      "\n",
      "================================================================================\n",
      "FORMATTED EXAMPLE\n",
      "================================================================================\n",
      "Context: Series exhibits strong persistence (lag-1 ≈ 0.95), a decade-long upward trend (+13.2%), and weak seasonality, with shocks being rare but impactful.\n",
      "\n",
      "Question: Absent new shocks, what should be expected for the month after 2009-12?\n",
      "\n",
      "Answer: A value near the prevailing trend with only modest seasonal deviation—continued gradual growth unless disrupted....\n"
     ]
    }
   ],
   "source": [
    "print(\"Formatting datasets for causal LM training...\")\n",
    "\n",
    "# Format both train and test\n",
    "train_formatted = format_dataset(triplets_data['train'])\n",
    "test_formatted = format_dataset(triplets_data['test'])\n",
    "\n",
    "print(f\"✓ Formatted {len(train_formatted)} training examples\")\n",
    "print(f\"✓ Formatted {len(test_formatted)} test examples\")\n",
    "\n",
    "# Show formatted example\n",
    "print(\"\\n\" + \"=\"*80)\n",
    "print(\"FORMATTED EXAMPLE\")\n",
    "print(\"=\"*80)\n",
    "print(train_formatted[0]['text'][:400] + \"...\")"
   ]
  },
  {
   "cell_type": "markdown",
   "metadata": {},
   "source": [
    "## Step 5: Load Pre-trained Model and Tokenizer\n",
    "\n",
    "We'll use **DistilGPT2**, a distilled version of GPT-2:\n",
    "- **82M parameters** (much smaller than GPT-2's 124M)\n",
    "- **Faster training** and inference\n",
    "- **Same architecture** as GPT-2, just smaller\n",
    "\n",
    "The tokenizer converts text to token IDs that the model can process."
   ]
  },
  {
   "cell_type": "code",
   "execution_count": 6,
   "metadata": {},
   "outputs": [
    {
     "name": "stdout",
     "output_type": "stream",
     "text": [
      "================================================================================\n",
      "LOADING MODEL AND TOKENIZER\n",
      "================================================================================\n",
      "\n",
      "Loading distilgpt2...\n",
      "  Set pad_token = eos_token\n",
      "\n",
      "✓ Model loaded successfully\n",
      "  Total parameters: 81,912,576\n",
      "  Trainable parameters: 81,912,576\n",
      "  Model size: ~312.5 MB (float32)\n"
     ]
    }
   ],
   "source": [
    "print(\"=\"*80)\n",
    "print(\"LOADING MODEL AND TOKENIZER\")\n",
    "print(\"=\"*80)\n",
    "\n",
    "print(f\"\\nLoading {MODEL_NAME}...\")\n",
    "tokenizer = AutoTokenizer.from_pretrained(MODEL_NAME)\n",
    "model = AutoModelForCausalLM.from_pretrained(MODEL_NAME)\n",
    "\n",
    "# Set pad token (GPT-2 doesn't have one by default)\n",
    "if tokenizer.pad_token is None:\n",
    "    tokenizer.pad_token = tokenizer.eos_token\n",
    "    print(\"  Set pad_token = eos_token\")\n",
    "\n",
    "# Move model to device\n",
    "model = model.to(device)\n",
    "\n",
    "# Print model info\n",
    "total_params = sum(p.numel() for p in model.parameters())\n",
    "trainable_params = sum(p.numel() for p in model.parameters() if p.requires_grad)\n",
    "\n",
    "print(f\"\\n✓ Model loaded successfully\")\n",
    "print(f\"  Total parameters: {total_params:,}\")\n",
    "print(f\"  Trainable parameters: {trainable_params:,}\")\n",
    "print(f\"  Model size: ~{total_params * 4 / (1024**2):.1f} MB (float32)\")"
   ]
  },
  {
   "cell_type": "markdown",
   "metadata": {},
   "source": [
    "## Step 6: Tokenize the Datasets\n",
    "\n",
    "Convert our text data into token IDs that the model can process.\n",
    "\n",
    "We'll:\n",
    "1. Truncate sequences longer than MAX_LENGTH (512 tokens)\n",
    "2. Pad sequences shorter than MAX_LENGTH\n",
    "3. Create attention masks to ignore padding"
   ]
  },
  {
   "cell_type": "code",
   "execution_count": 7,
   "metadata": {},
   "outputs": [
    {
     "name": "stdout",
     "output_type": "stream",
     "text": [
      "================================================================================\n",
      "TOKENIZING DATASETS\n",
      "================================================================================\n",
      "\n",
      "Tokenizing...\n"
     ]
    },
    {
     "data": {
      "application/vnd.jupyter.widget-view+json": {
       "model_id": "f02d1e4694d246d492b83faa324e9ac7",
       "version_major": 2,
       "version_minor": 0
      },
      "text/plain": [
       "Tokenizing train:   0%|          | 0/1446 [00:00<?, ? examples/s]"
      ]
     },
     "metadata": {},
     "output_type": "display_data"
    },
    {
     "data": {
      "application/vnd.jupyter.widget-view+json": {
       "model_id": "67133c5a9a98493389c26feb37eb24c0",
       "version_major": 2,
       "version_minor": 0
      },
      "text/plain": [
       "Tokenizing test:   0%|          | 0/361 [00:00<?, ? examples/s]"
      ]
     },
     "metadata": {},
     "output_type": "display_data"
    },
    {
     "name": "stdout",
     "output_type": "stream",
     "text": [
      "\n",
      "✓ Datasets tokenized\n",
      "  Training: 1446 examples\n",
      "  Test: 361 examples\n",
      "  Token sequence length: 512\n"
     ]
    }
   ],
   "source": [
    "print(\"=\"*80)\n",
    "print(\"TOKENIZING DATASETS\")\n",
    "print(\"=\"*80)\n",
    "\n",
    "def tokenize_function(examples):\n",
    "    \"\"\"Tokenize text with truncation and padding.\"\"\"\n",
    "    return tokenizer(\n",
    "        examples[\"text\"],\n",
    "        truncation=True,\n",
    "        max_length=MAX_LENGTH,\n",
    "        padding=\"max_length\"\n",
    "    )\n",
    "\n",
    "# Create HuggingFace datasets\n",
    "train_dataset = Dataset.from_list(train_formatted)\n",
    "test_dataset = Dataset.from_list(test_formatted)\n",
    "\n",
    "print(\"\\nTokenizing...\")\n",
    "# Tokenize\n",
    "train_dataset = train_dataset.map(\n",
    "    tokenize_function,\n",
    "    batched=True,\n",
    "    remove_columns=[\"text\"],\n",
    "    desc=\"Tokenizing train\"\n",
    ")\n",
    "test_dataset = test_dataset.map(\n",
    "    tokenize_function,\n",
    "    batched=True,\n",
    "    remove_columns=[\"text\"],\n",
    "    desc=\"Tokenizing test\"\n",
    ")\n",
    "\n",
    "print(f\"\\n✓ Datasets tokenized\")\n",
    "print(f\"  Training: {len(train_dataset)} examples\")\n",
    "print(f\"  Test: {len(test_dataset)} examples\")\n",
    "print(f\"  Token sequence length: {MAX_LENGTH}\")"
   ]
  },
  {
   "cell_type": "markdown",
   "metadata": {},
   "source": [
    "## Step 7: Analyze Pre-trained Model with WeightWatcher\n",
    "\n",
    "Before fine-tuning, let's analyze the **pre-trained** model to establish a baseline.\n",
    "\n",
    "WeightWatcher will:\n",
    "1. Extract weight matrices from each layer\n",
    "2. Compute eigenvalues via Singular Value Decomposition (SVD)\n",
    "3. Fit a power law to the eigenvalue distribution\n",
    "4. Report the power law exponent (α) for each layer\n",
    "\n",
    "This gives us insight into the quality of the pre-trained weights."
   ]
  },
  {
   "cell_type": "code",
   "execution_count": 8,
   "metadata": {},
   "outputs": [
    {
     "name": "stdout",
     "output_type": "stream",
     "text": [
      "================================================================================\n",
      "ANALYZING PRE-TRAINED MODEL (Checkpoint 0)\n",
      "================================================================================\n",
      "\n",
      "Analyzing checkpoint_0_pretrained with WeightWatcher...\n",
      "  ✓ Saved to weightwatcher_checkpoint_0_pretrained.csv\n",
      "  ✓ Analysis complete\n",
      "    Layers analyzed: 25\n",
      "    Mean α: 4.028\n",
      "    Good layers (2 ≤ α ≤ 6): 21/25\n",
      "\n",
      "✓ Pre-trained model analysis complete\n"
     ]
    }
   ],
   "source": [
    "print(\"=\"*80)\n",
    "print(\"ANALYZING PRE-TRAINED MODEL (Checkpoint 0)\")\n",
    "print(\"=\"*80)\n",
    "\n",
    "# Analyze pre-trained model\n",
    "checkpoint_results = {}\n",
    "checkpoint_results['checkpoint_0_pretrained'] = analyze_model_with_weightwatcher(\n",
    "    model,\n",
    "    model_name=\"checkpoint_0_pretrained\",\n",
    "    device=device\n",
    ")\n",
    "\n",
    "print(\"\\n✓ Pre-trained model analysis complete\")"
   ]
  },
  {
   "cell_type": "markdown",
   "metadata": {},
   "source": [
    "## Step 8: Fine-tune the Model\n",
    "\n",
    "Now we'll fine-tune DistilGPT2 on our question-answering task.\n",
    "\n",
    "### Training Configuration\n",
    "\n",
    "- **Objective**: Causal language modeling (predict next token)\n",
    "- **Epochs**: 2 (for demonstration; more epochs would improve performance)\n",
    "- **Batch Size**: 8\n",
    "- **Optimizer**: AdamW with weight decay\n",
    "- **Learning Rate Schedule**: Linear warmup for 50 steps\n",
    "- **Evaluation**: Every epoch on the test set\n",
    "- **Checkpointing**: Save model after each epoch\n",
    "\n",
    "### What the Model Learns\n",
    "\n",
    "By training on our formatted text, the model learns:\n",
    "1. To recognize the Context → Question → Answer pattern\n",
    "2. To generate appropriate answers given context and questions\n",
    "3. To perform inductive reasoning based on observations"
   ]
  },
  {
   "cell_type": "code",
   "execution_count": 9,
   "metadata": {},
   "outputs": [
    {
     "name": "stdout",
     "output_type": "stream",
     "text": [
      "================================================================================\n",
      "FINE-TUNING MODEL\n",
      "================================================================================\n",
      "\n",
      "Starting training...\n",
      "--------------------------------------------------------------------------------\n"
     ]
    },
    {
     "name": "stderr",
     "output_type": "stream",
     "text": [
      "`loss_type=None` was set in the config but it is unrecognised.Using the default loss: `ForCausalLMLoss`.\n"
     ]
    },
    {
     "data": {
      "text/html": [
       "\n",
       "    <div>\n",
       "      \n",
       "      <progress value='362' max='362' style='width:300px; height:20px; vertical-align: middle;'></progress>\n",
       "      [362/362 04:34, Epoch 2/2]\n",
       "    </div>\n",
       "    <table border=\"1\" class=\"dataframe\">\n",
       "  <thead>\n",
       " <tr style=\"text-align: left;\">\n",
       "      <th>Epoch</th>\n",
       "      <th>Training Loss</th>\n",
       "      <th>Validation Loss</th>\n",
       "    </tr>\n",
       "  </thead>\n",
       "  <tbody>\n",
       "    <tr>\n",
       "      <td>1</td>\n",
       "      <td>3.070500</td>\n",
       "      <td>2.793941</td>\n",
       "    </tr>\n",
       "    <tr>\n",
       "      <td>2</td>\n",
       "      <td>2.705800</td>\n",
       "      <td>2.672042</td>\n",
       "    </tr>\n",
       "  </tbody>\n",
       "</table><p>"
      ],
      "text/plain": [
       "<IPython.core.display.HTML object>"
      ]
     },
     "metadata": {},
     "output_type": "display_data"
    },
    {
     "name": "stderr",
     "output_type": "stream",
     "text": [
      "There were missing keys in the checkpoint model loaded: ['lm_head.weight'].\n"
     ]
    },
    {
     "name": "stdout",
     "output_type": "stream",
     "text": [
      "\n",
      "================================================================================\n",
      "TRAINING COMPLETE\n",
      "================================================================================\n",
      "  Training loss: 3.1119\n",
      "\n",
      "Evaluating on test set...\n"
     ]
    },
    {
     "data": {
      "text/html": [
       "\n",
       "    <div>\n",
       "      \n",
       "      <progress value='46' max='46' style='width:300px; height:20px; vertical-align: middle;'></progress>\n",
       "      [46/46 00:10]\n",
       "    </div>\n",
       "    "
      ],
      "text/plain": [
       "<IPython.core.display.HTML object>"
      ]
     },
     "metadata": {},
     "output_type": "display_data"
    },
    {
     "name": "stdout",
     "output_type": "stream",
     "text": [
      "\n",
      "✓ Test set evaluation:\n",
      "  Loss: 2.6720\n",
      "  Perplexity: 14.47\n",
      "\n",
      "Note: Lower loss and perplexity indicate better performance.\n"
     ]
    }
   ],
   "source": [
    "print(\"=\"*80)\n",
    "print(\"FINE-TUNING MODEL\")\n",
    "print(\"=\"*80)\n",
    "\n",
    "# Create output directory\n",
    "os.makedirs(OUTPUT_DIR, exist_ok=True)\n",
    "\n",
    "# Define training arguments\n",
    "training_args = TrainingArguments(\n",
    "    output_dir=OUTPUT_DIR,\n",
    "    num_train_epochs=NUM_EPOCHS,\n",
    "    per_device_train_batch_size=BATCH_SIZE,\n",
    "    per_device_eval_batch_size=BATCH_SIZE,\n",
    "    warmup_steps=50,\n",
    "    weight_decay=0.01,\n",
    "    logging_dir='./logs',\n",
    "    logging_steps=50,\n",
    "    eval_strategy=\"epoch\",  # Evaluate after each epoch\n",
    "    save_strategy=\"epoch\",  # Save checkpoint after each epoch\n",
    "    save_total_limit=NUM_EPOCHS,  # Keep all checkpoints\n",
    "    load_best_model_at_end=True,\n",
    "    metric_for_best_model=\"loss\",\n",
    "    greater_is_better=False,\n",
    "    seed=SEED,\n",
    "    report_to=\"none\",  # Don't report to wandb/tensorboard\n",
    ")\n",
    "\n",
    "# Data collator for causal LM\n",
    "data_collator = DataCollatorForLanguageModeling(\n",
    "    tokenizer=tokenizer,\n",
    "    mlm=False  # False = Causal LM, True = Masked LM\n",
    ")\n",
    "\n",
    "# Create Trainer\n",
    "trainer = Trainer(\n",
    "    model=model,\n",
    "    args=training_args,\n",
    "    train_dataset=train_dataset,\n",
    "    eval_dataset=test_dataset,\n",
    "    data_collator=data_collator,\n",
    ")\n",
    "\n",
    "print(\"\\nStarting training...\")\n",
    "print(\"-\"*80)\n",
    "\n",
    "# Train!\n",
    "train_result = trainer.train()\n",
    "\n",
    "print(\"\\n\" + \"=\"*80)\n",
    "print(\"TRAINING COMPLETE\")\n",
    "print(\"=\"*80)\n",
    "print(f\"  Training loss: {train_result.training_loss:.4f}\")\n",
    "\n",
    "# Evaluate on test set\n",
    "print(\"\\nEvaluating on test set...\")\n",
    "test_results = trainer.evaluate(test_dataset)\n",
    "\n",
    "print(f\"\\n✓ Test set evaluation:\")\n",
    "print(f\"  Loss: {test_results.get('eval_loss', 0):.4f}\")\n",
    "print(f\"  Perplexity: {np.exp(test_results.get('eval_loss', 0)):.2f}\")\n",
    "\n",
    "print(\"\\nNote: Lower loss and perplexity indicate better performance.\")"
   ]
  },
  {
   "cell_type": "markdown",
   "metadata": {},
   "source": [
    "## Step 9: Analyze All Checkpoints\n",
    "\n",
    "Now we'll analyze each saved checkpoint with WeightWatcher to see how the model's internal structure evolved during training.\n",
    "\n",
    "For each checkpoint, we'll:\n",
    "1. Load the saved model\n",
    "2. Evaluate it on the test set (loss and perplexity)\n",
    "3. Run WeightWatcher analysis (compute α for all layers)\n",
    "4. Save the results\n",
    "\n",
    "To save time, we'll analyze every 2nd checkpoint by default."
   ]
  },
  {
   "cell_type": "code",
   "execution_count": 10,
   "metadata": {},
   "outputs": [
    {
     "name": "stdout",
     "output_type": "stream",
     "text": [
      "================================================================================\n",
      "ANALYZING ALL CHECKPOINTS\n",
      "================================================================================\n",
      "Found 2 checkpoints\n",
      "Analyzing every 2 checkpoint(s) to save time...\n",
      "--------------------------------------------------------------------------------\n",
      "\n",
      "Checkpoint 1: ./finetuned_distilgpt2_model/checkpoint-181\n"
     ]
    },
    {
     "data": {
      "text/html": [
       "\n",
       "    <div>\n",
       "      \n",
       "      <progress value='46' max='46' style='width:300px; height:20px; vertical-align: middle;'></progress>\n",
       "      [46/46 00:10]\n",
       "    </div>\n",
       "    "
      ],
      "text/plain": [
       "<IPython.core.display.HTML object>"
      ]
     },
     "metadata": {},
     "output_type": "display_data"
    },
    {
     "name": "stdout",
     "output_type": "stream",
     "text": [
      "  Loss: 2.7939\n",
      "  Perplexity: 16.35\n",
      "\n",
      "Analyzing checkpoint_181 with WeightWatcher...\n",
      "  ✓ Saved to weightwatcher_checkpoint_181.csv\n",
      "  ✓ Analysis complete\n",
      "    Layers analyzed: 25\n",
      "    Mean α: 4.027\n",
      "    Good layers (2 ≤ α ≤ 6): 21/25\n",
      "\n",
      "Analyzing final fine-tuned model...\n",
      "\n",
      "Analyzing checkpoint_final with WeightWatcher...\n",
      "  ✓ Saved to weightwatcher_checkpoint_final.csv\n",
      "  ✓ Analysis complete\n",
      "    Layers analyzed: 25\n",
      "    Mean α: 4.027\n",
      "    Good layers (2 ≤ α ≤ 6): 21/25\n",
      "\n",
      "✓ Analyzed 3 total checkpoints\n"
     ]
    }
   ],
   "source": [
    "# Analyze all checkpoints\n",
    "checkpoint_results_from_analysis = analyze_all_checkpoints(\n",
    "    output_dir=OUTPUT_DIR,\n",
    "    trainer=trainer,\n",
    "    test_dataset=test_dataset,\n",
    "    data_collator=data_collator,\n",
    "    training_args=training_args,\n",
    "    device=device,\n",
    "    analyze_every_n=2  # Analyze every 2nd checkpoint\n",
    ")\n",
    "\n",
    "# Merge with pre-trained results\n",
    "checkpoint_results.update(checkpoint_results_from_analysis)\n",
    "\n",
    "# Also analyze the final model\n",
    "print(f\"\\nAnalyzing final fine-tuned model...\")\n",
    "final_results = analyze_model_with_weightwatcher(\n",
    "    model,\n",
    "    model_name=\"checkpoint_final\",\n",
    "    device=device\n",
    ")\n",
    "final_results['loss'] = test_results.get('eval_loss', 0)\n",
    "final_results['perplexity'] = np.exp(test_results.get('eval_loss', 0))\n",
    "checkpoint_results['checkpoint_final'] = final_results\n",
    "\n",
    "print(f\"\\n✓ Analyzed {len(checkpoint_results)} total checkpoints\")"
   ]
  },
  {
   "cell_type": "markdown",
   "metadata": {},
   "source": [
    "## Step 10: Visualize Results\n",
    "\n",
    "Let's create visualizations to understand how the model evolved during training.\n",
    "\n",
    "We'll create a 4-panel plot showing:\n",
    "1. **Power Law Exponent (α) Evolution**: How layer quality changed\n",
    "2. **Test Loss Evolution**: How well the model fits the data\n",
    "3. **Perplexity Evolution**: How \"surprised\" the model is by the test data\n",
    "4. **α vs Loss Correlation**: Relationship between spectral properties and performance"
   ]
  },
  {
   "cell_type": "code",
   "execution_count": 11,
   "metadata": {},
   "outputs": [
    {
     "name": "stdout",
     "output_type": "stream",
     "text": [
      "================================================================================\n",
      "CREATING VISUALIZATIONS\n",
      "================================================================================\n",
      "\n",
      "Prepared data for 3 checkpoints\n",
      "✓ Saved distilgpt2_spectral_analysis.png\n"
     ]
    },
    {
     "data": {
      "image/png": "[encoded data removed]",
      "text/plain": [
       "<Figure size 1600x1200 with 4 Axes>"
      ]
     },
     "metadata": {},
     "output_type": "display_data"
    },
    {
     "name": "stdout",
     "output_type": "stream",
     "text": [
      "\n",
      "✓ Visualization complete\n"
     ]
    }
   ],
   "source": [
    "print(\"=\"*80)\n",
    "print(\"CREATING VISUALIZATIONS\")\n",
    "print(\"=\"*80)\n",
    "\n",
    "# Prepare data for visualization\n",
    "viz_data = prepare_visualization_data(checkpoint_results)\n",
    "print(f\"\\nPrepared data for {len(viz_data['checkpoint_names'])} checkpoints\")\n",
    "\n",
    "# Create plots\n",
    "fig = create_spectral_analysis_plots(\n",
    "    viz_data,\n",
    "    save_path='distilgpt2_spectral_analysis.png',\n",
    "    figsize=(16, 12),\n",
    "    dpi=150\n",
    ")\n",
    "\n",
    "plt.show()\n",
    "\n",
    "print(\"\\n✓ Visualization complete\")"
   ]
  },
  {
   "cell_type": "markdown",
   "metadata": {},
   "source": [
    "## Step 11: Summary Table\n",
    "\n",
    "Create a summary table of all checkpoints with key metrics."
   ]
  },
  {
   "cell_type": "code",
   "execution_count": 12,
   "metadata": {},
   "outputs": [
    {
     "name": "stdout",
     "output_type": "stream",
     "text": [
      "================================================================================\n",
      "ANALYSIS SUMMARY TABLE\n",
      "================================================================================\n",
      "\n",
      "✓ Summary saved to weightwatcher_summary.csv\n",
      "\n",
      "             Checkpoint  CP#   Loss Perplexity Mean α Good Layers\n",
      "checkpoint_0_pretrained    0 0.0000       0.00  4.028       21/25\n",
      "       checkpoint_final    0 2.6720      14.47  4.027       21/25\n",
      "         checkpoint_181  181 2.7939      16.35  4.027       21/25\n"
     ]
    }
   ],
   "source": [
    "print(\"=\"*80)\n",
    "print(\"ANALYSIS SUMMARY TABLE\")\n",
    "print(\"=\"*80)\n",
    "\n",
    "summary_df = create_summary_table(\n",
    "    checkpoint_results,\n",
    "    save_path='weightwatcher_summary.csv'\n",
    ")\n",
    "\n",
    "print(\"\\n\" + summary_df.to_string(index=False))"
   ]
  },
  {
   "cell_type": "markdown",
   "metadata": {},
   "source": [
    "## Step 12: Key Findings\n",
    "\n",
    "Let's extract and interpret the key findings from our analysis."
   ]
  },
  {
   "cell_type": "code",
   "execution_count": 13,
   "metadata": {},
   "outputs": [
    {
     "name": "stdout",
     "output_type": "stream",
     "text": [
      "================================================================================\n",
      "KEY FINDINGS\n",
      "================================================================================\n",
      "\n",
      "1. BEST PERFORMING CHECKPOINT (Lowest Loss):\n",
      "   Checkpoint: checkpoint_0_pretrained\n",
      "   Loss: 0.0000\n",
      "   Perplexity: 0.00\n",
      "   Mean α: 4.028\n",
      "\n",
      "2. CORRELATION ANALYSIS:\n",
      "   α vs Loss: -0.951\n",
      "   Strong negative correlation: Lower α → Higher loss\n",
      "\n",
      "3. TRAINING EVOLUTION:\n",
      "   Initial mean α: 4.028\n",
      "   Final mean α: 4.027\n",
      "   Change: -0.001\n",
      "\n",
      "   Initial loss: 0.0000\n",
      "   Final loss: 2.7939\n",
      "   Improvement: -2.7939\n",
      "\n",
      "================================================================================\n"
     ]
    }
   ],
   "source": [
    "print_key_findings(viz_data)"
   ]
  },
  {
   "cell_type": "markdown",
   "metadata": {},
   "source": [
    "## Step 13: Interpretation\n",
    "\n",
    "### What Do These Results Mean?\n",
    "\n",
    "#### Power Law Exponent (α)\n",
    "\n",
    "The power law exponent α characterizes the distribution of singular values in weight matrices:\n",
    "- **α ≈ 2-6**: Indicates well-regularized, generalizable layers\n",
    "- **α < 2**: Suggests over-training or memorization\n",
    "- **α > 6**: Suggests under-training or poor optimization\n",
    "\n",
    "#### Loss and Perplexity\n",
    "\n",
    "- **Loss**: Cross-entropy loss on test set (lower is better)\n",
    "- **Perplexity**: exp(loss), interpretable as \"how many choices the model is uncertain between\" (lower is better)\n",
    "\n",
    "#### Correlation Analysis\n",
    "\n",
    "- **Negative correlation** between α and loss: Higher quality layers (lower α in the good range) tend to produce lower loss\n",
    "- **Positive correlation**: The opposite relationship\n",
    "- **No correlation**: Spectral properties don't directly predict performance\n",
    "\n",
    "### Practical Implications\n",
    "\n",
    "1. **Training Progress**: If α values improve during training, the model is learning good representations\n",
    "2. **Over-training Detection**: If α drops below 2, the model may be memorizing\n",
    "3. **Layer-wise Diagnosis**: Individual layer α values can identify problematic layers\n",
    "4. **Early Stopping**: Can use α evolution as an additional criterion for when to stop training"
   ]
  },
  {
   "cell_type": "markdown",
   "metadata": {},
   "source": [
    "## Conclusion\n",
    "\n",
    "In this notebook, we:\n",
    "\n",
    "1. ✅ Loaded and prepared the IR Triplets dataset\n",
    "2. ✅ Fine-tuned DistilGPT2 on question-answering\n",
    "3. ✅ Analyzed model quality using WeightWatcher at multiple checkpoints\n",
    "4. ✅ Visualized the evolution of spectral properties during training\n",
    "5. ✅ Correlated spectral analysis with model performance\n",
    "\n",
    "### Key Takeaways\n",
    "\n",
    "- **WeightWatcher provides insights** into model quality beyond traditional metrics\n",
    "- **Power law exponent (α)** is a useful indicator of layer training quality\n",
    "- **Spectral analysis** can help diagnose over-training, under-training, and optimization issues\n",
    "- **Combining traditional metrics** (loss, perplexity) with spectral analysis gives a more complete picture\n",
    "\n",
    "### Generated Files\n",
    "\n",
    "- `distilgpt2_spectral_analysis.png` - 4-panel visualization\n",
    "- `weightwatcher_summary.csv` - Summary table\n",
    "- `weightwatcher_checkpoint_*.csv` - Detailed layer-wise analysis for each checkpoint\n",
    "- `./finetuned_distilgpt2_model/` - Saved model checkpoints\n",
    "\n",
    "### Next Steps\n",
    "\n",
    "- Try different architectures (GPT-2, GPT-2-medium, etc.)\n",
    "- Experiment with more epochs to see long-term α evolution\n",
    "- Compare α values across different datasets\n",
    "- Use layer-wise α values to identify and fix problematic layers"
   ]
  }
 ],
 "metadata": {
  "kernelspec": {
   "display_name": "Python 3.10 Mimesis",
   "language": "python",
   "name": "mimesis"
  },
  "language_info": {
   "codemirror_mode": {
    "name": "ipython",
    "version": 3
   },
   "file_extension": ".py",
   "mimetype": "text/x-python",
   "name": "python",
   "nbconvert_exporter": "python",
   "pygments_lexer": "ipython3",
   "version": "3.10.18"
  }
 },
 "nbformat": 4,
 "nbformat_minor": 4
}
